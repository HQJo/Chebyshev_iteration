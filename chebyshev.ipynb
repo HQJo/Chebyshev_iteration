{
 "cells": [
  {
   "cell_type": "markdown",
   "metadata": {},
   "source": [
    "# Chebyshev Iteration Method\n"
   ]
  },
  {
   "cell_type": "markdown",
   "metadata": {},
   "source": [
    "## Theory\n",
    "### Chebyshev polynomials\n",
    "* Recurrence definition\n",
    "$$\n",
    "\\begin{aligned}\n",
    "    T_0(x) &= 1 \\\\\n",
    "    T_1(x) &= x \\\\\n",
    "    T_{n+1}(x) &= 2x T_n(x) - T_{n-1}(x) \n",
    "\\end{aligned}\n",
    "$$\n",
    "\n",
    "* Trigonometric definition\n",
    "$$\n",
    "    T_n(x) = \\begin{cases}\n",
    "        \\cos (n\\operatorname{arcos} x) &\\qquad \\text{if } |x| \\le 1 \\\\\n",
    "        \\cosh (n\\operatorname{arcosh} x) &\\qquad \\text{if } x \\ge 1 \\\\\n",
    "        (-1)^n \\cosh (n\\operatorname{arcosh}(-x)) &\\qquad \\text{if } x \\le -1\n",
    "    \\end{cases}\n",
    "$$\n",
    "\n",
    "* Minimal $\\infty$-norm [1]\n",
    "\n",
    "For any given $n \\ge 1$, among the polynomials of degree $n$ with leading coefficient 1 (monic polynomials),\n",
    "$$\n",
    "    f(x) = \\frac{1}{2^{n-1}} T_n(x)\n",
    "$$\n",
    "is the one of which the maximal absolute value on the interval $[-1, 1]$ is minimal."
   ]
  },
  {
   "cell_type": "markdown",
   "metadata": {},
   "source": [
    "### Iterative Solver\n",
    "Solving linear system\n",
    "$$\n",
    "    A x = b\n",
    "$$\n",
    "where $A$ is a positive definite matrix. \n",
    "\n",
    "Spectrum of $A$: $\\mathrm{spectrum}(A) = \\{\\lambda_1, \\dotsc, \\lambda_n \\}$, where $0 < \\lambda_1 \\le \\dotsb \\le \\lambda_n$.\n",
    "\n",
    "* General formulation of Iterative solver\n",
    "$$\n",
    "    x_{k+1} = x_k + \\alpha_{k+1} (b - A x_k)\n",
    "$$\n",
    "\n",
    "Let error $e_{k} = x - x_k$\n",
    "$$\n",
    "    \\begin{aligned}\n",
    "        e_{k+1} &= x - x_{k+1} \\\\\n",
    "        &= (x - x_k) - (x_{k+1} - x_k) \\\\\n",
    "        &= (x - x_k) -\\alpha_{k+1} (b - A x_k) \\\\\n",
    "        &= e_{k} - \\alpha_{k+1} A(x - x_k) \\\\\n",
    "        &= (I - \\alpha_{k+1} A) e_k\n",
    "    \\end{aligned}\n",
    "$$\n",
    "Then,\n",
    "$$\n",
    "    e_{k} = \\prod_{i=1}^{k} (I - \\alpha_k A) e_0\n",
    "$$\n",
    "\n",
    "* Norm of error:\n",
    "$$\n",
    "    \\| e_k \\| = \\prod_{i=1}^{k} \\| (I - \\alpha_k A) e_0 \\| \\le \\prod_{i=1}^{k} (\\| I - \\alpha_k A \\|) \\cdot \\| e_0 \\|\n",
    "$$\n",
    "\n",
    "To minimize the error after $k$ iteration $\\Rightarrow$ minimize $\\prod_{i=1}^{k} \\| I - \\alpha_k A \\|$."
   ]
  },
  {
   "cell_type": "markdown",
   "metadata": {},
   "source": [
    "### Richardson method:\n",
    "$\\alpha_k \\equiv \\alpha$.\n",
    "$$\n",
    "    x_{k+1} = x_k + \\alpha (b - A x_k)\n",
    "$$\n",
    "\n",
    "In this case, minimize $\\prod_{i=1}^{k} \\| I - \\alpha_k A \\| \\Rightarrow$ minimize $ \\| I - \\alpha A \\| \\Rightarrow$ minimize $ \\max_{\\lambda \\in \\mathrm{spectrum}(A)} |(1 - \\alpha \\lambda)|$.\n",
    "\n",
    "Choosing the best $\\alpha$:\n",
    "$$\n",
    "    \\alpha^* = \\operatorname*{argmin}_{\\alpha} \\max_{\\lambda \\in \\mathrm{spectrum}(A)} |1 - \\alpha \\lambda|\n",
    "$$\n",
    "$$\n",
    "    1 - \\alpha^* \\lambda_1 = \\alpha^* \\lambda_n - 1  \\Rightarrow \\alpha^* = \\frac{2}{\\lambda_1 + \\lambda_n}\n",
    "$$"
   ]
  },
  {
   "cell_type": "markdown",
   "metadata": {},
   "source": [
    "### Chebyshev iteration [5]\n",
    "Choosing the best $\\alpha_i, i=1, 2, \\dotsc, k$.\n",
    "$$\n",
    "    \\{\\alpha_i\\}_{i=1,\\dotsc,k} = \\operatorname*{argmin}_{\\alpha_i} \\left\\{ \\max_{\\lambda \\in \\mathrm{spectrum}(A)} |(1-\\alpha_1 \\lambda) \\dotsb (1-\\alpha_k \\lambda)| \\right\\}\n",
    "$$\n",
    "Suppose that we don't know all eigenvalues of $A$ and only know $M = \\lambda_n$ and $m = \\lambda_1$.\n",
    "\n",
    "Relaxation: $\\lambda \\in \\mathrm{spectrum}(A) \\Rightarrow \\lambda \\in [m, M]$.\n",
    "$$\n",
    "    \\{\\alpha_i\\}_{i=1,\\dotsc,k} = \\operatorname*{argmin}_{\\alpha_i} \\left\\{ \\max_{\\lambda \\in [m, M]} |(1-\\alpha_1 \\lambda) \\dotsb (1-\\alpha_k \\lambda)| \\right\\}\n",
    "$$\n",
    "\n",
    "Find a degree-$k$ polynomial $p_k(x)$ with $p_k(0) = 1$, which minimizes $\\max_{\\lambda \\in [m, M]} | p_k(\\lambda) |$ $\\Rightarrow$ The minimal $\\infty$-norm property of Chebyshev polynomial.  \n",
    "\n",
    "Parameterize $\\lambda \\in [m, M]$ as $\\lambda = \\frac{M+m}{2} + \\frac{M-m}{2} t$ and $t \\in [-1, 1]$.\n",
    "\n",
    "Optimal polynomial:\n",
    "$$\n",
    "    p_k(\\lambda) = T_k\\left( \\frac{\\lambda - (M+m)/2}{(M-m)/2} \\right) \\bigg/ T_k \\left( -\\frac{M+m}{M-m} \\right) = \\prod_{i=1}^{k} (1-\\alpha_i t)\n",
    "$$\n",
    "\n",
    "Corresponing $\\alpha_k$ (zero-points of Chebyshev polynomial):\n",
    "$$\n",
    "    \\alpha_i^{-1} = \\frac{1}{2} \\left( M + m + (M - m)\\cos \\frac{\\pi(2i-1)}{2k} \\right) \\quad i=1,2,\\dotsc,k\n",
    "$$"
   ]
  },
  {
   "cell_type": "markdown",
   "metadata": {},
   "source": [
    "### Three-term Chebyshev iteration [3, 4]\n",
    "Practical version in computation (three-term Chebyshev iteration):\n",
    "$$\n",
    "    x_{k+1} = x_{k} + \\alpha_{k+1}(r - Ax_k) + \\beta_{k+1}(x_k - x_{k-1})\n",
    "$$\n",
    "where\n",
    "$$\n",
    "    \\begin{aligned}\n",
    "        \\alpha_{k+1} &= \\begin{cases}\n",
    "            1 / d & \\quad k = -1 \\\\\n",
    "            2d / (2d^2 - c^2) & \\quad k = 0 \\\\\n",
    "            (d - (c/2)^2 \\alpha_{k-1})^{-1} & \\quad k \\ge 1 \n",
    "        \\end{cases} \\\\\n",
    "        \\beta_{k+1} &= \\begin{cases}\n",
    "            0 & \\quad k = -1 \\\\\n",
    "            d \\cdot \\alpha_{k+1} - 1 & \\quad k \\ge 0\n",
    "        \\end{cases}\n",
    "    \\end{aligned}\n",
    "$$\n",
    "and $d = (\\lambda_{max} + \\lambda_{min}) / 2, c = (\\lambda_{max} - \\lambda_{min}) / 2$.\n",
    "\n"
   ]
  },
  {
   "cell_type": "markdown",
   "metadata": {},
   "source": [
    "## Algorithm & Code [2]\n",
    "算法：\n",
    "\n",
    "![alg](./chebyshev_alg.png)"
   ]
  },
  {
   "cell_type": "code",
   "execution_count": 1,
   "metadata": {},
   "outputs": [],
   "source": [
    "import numpy as np"
   ]
  },
  {
   "cell_type": "markdown",
   "metadata": {},
   "source": [
    "The code below seems different from the definitions and iteration rules of $\\alpha_k$ and $\\beta_k$ above.\n",
    "\n",
    "But it can be proved that they generate the same $\\alpha_k$ and $\\beta_k$ sequences (mathematical induction)."
   ]
  },
  {
   "cell_type": "code",
   "execution_count": 2,
   "metadata": {},
   "outputs": [],
   "source": [
    "def chebyshev_solve(x0, A, b, lmin, lmax, max_iter=100, epsilon=1-10):\n",
    "    d = (lmax + lmin) / 2\n",
    "    c = (lmax - lmin) / 2\n",
    "    x = x0\n",
    "    r = b - A @ x\n",
    "\n",
    "    for i in range(max_iter):\n",
    "        z = r\n",
    "        if i == 0:\n",
    "            p = z\n",
    "            alpha = 1 / d\n",
    "        elif i == 1:\n",
    "            beta = 1/2 * (c * alpha) ** 2\n",
    "            alpha = 1 / (d - beta / alpha)\n",
    "            p = z + beta * p\n",
    "        else:\n",
    "            beta = (c * alpha / 2) ** 2\n",
    "            alpha = 1 / (d - beta / alpha)\n",
    "            p = z + beta * p\n",
    "    \n",
    "        x = x + alpha * p\n",
    "        r = b - A @ x\n",
    "\n",
    "        if np.linalg.norm(r) < epsilon:\n",
    "            break\n",
    "    return x"
   ]
  },
  {
   "cell_type": "code",
   "execution_count": 3,
   "metadata": {},
   "outputs": [
    {
     "name": "stdout",
     "output_type": "stream",
     "text": [
      "kappa:  56.84915573303675\n",
      "2.8596922373412013e-08\n"
     ]
    }
   ],
   "source": [
    "np.random.seed(42)\n",
    "N = 10\n",
    "\n",
    "A = np.random.randn(N, N)\n",
    "A = A @ A.T\n",
    "eigvals = np.linalg.eigvals(A)\n",
    "lmax, lmin = eigvals[0], eigvals[-1]\n",
    "print(\"kappa: \", lmax / lmin)\n",
    "x_star = np.random.randn(N)\n",
    "\n",
    "b = A @ x_star\n",
    "\n",
    "x = chebyshev_solve(np.zeros_like(x_star), A, b, lmin, lmax, max_iter=1000)\n",
    "print(np.linalg.norm(x - x_star))\n"
   ]
  },
  {
   "cell_type": "markdown",
   "metadata": {},
   "source": [
    "**Remark**\n",
    "\n",
    "Note that Chebyshev iteration is designed for large sparse linear systems. Above code uses a dense matrix $A$ since it is only an example."
   ]
  },
  {
   "cell_type": "markdown",
   "metadata": {},
   "source": [
    "## References\n",
    "1. https://en.wikipedia.org/wiki/Chebyshev_polynomials\n",
    "2. https://en.wikipedia.org/wiki/Chebyshev_iteration\n",
    "3. Elman H C, Saad Y, Saylor P E. A hybrid Chebyshev Krylov subspace algorithm for solving nonsymmetric systems of linear equations[J]. SIAM Journal on Scientific and Statistical Computing, 1986, 7(3): 840-855.\n",
    "4. Manteuffel T A. The Tchebychev iteration for nonsymmetric linear systems[J]. Numerische Mathematik, 1977, 28(3): 307-327.\n",
    "5. Iterative methods for linear systems: theory and applications[M]. Society for Industrial and Applied Mathematics, 2014.\n"
   ]
  }
 ],
 "metadata": {
  "interpreter": {
   "hash": "dfee199bc06173056f485f4098452475ee058d32dbc2aca8ec93453a53230299"
  },
  "kernelspec": {
   "display_name": "Python 3 (ipykernel)",
   "language": "python",
   "name": "python3"
  },
  "language_info": {
   "codemirror_mode": {
    "name": "ipython",
    "version": 3
   },
   "file_extension": ".py",
   "mimetype": "text/x-python",
   "name": "python",
   "nbconvert_exporter": "python",
   "pygments_lexer": "ipython3",
   "version": "3.8.11"
  }
 },
 "nbformat": 4,
 "nbformat_minor": 2
}
